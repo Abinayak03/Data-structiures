{
  "nbformat": 4,
  "nbformat_minor": 0,
  "metadata": {
    "colab": {
      "provenance": [],
      "authorship_tag": "ABX9TyM5bb+gf+s9M94MQnZMGhkh",
      "include_colab_link": true
    },
    "kernelspec": {
      "name": "python3",
      "display_name": "Python 3"
    },
    "language_info": {
      "name": "python"
    }
  },
  "cells": [
    {
      "cell_type": "markdown",
      "metadata": {
        "id": "view-in-github",
        "colab_type": "text"
      },
      "source": [
        "<a href=\"https://colab.research.google.com/github/Abinayak03/Data-structiures/blob/main/Array_ds.ipynb\" target=\"_parent\"><img src=\"https://colab.research.google.com/assets/colab-badge.svg\" alt=\"Open In Colab\"/></a>"
      ]
    },
    {
      "cell_type": "markdown",
      "source": [
        "Let us say your expense for every month are listed below,\n",
        "\n",
        "January - 2200\n",
        "\n",
        "February - 2350\n",
        "\n",
        "March - 2600\n",
        "\n",
        "April - 2130\n",
        "\n",
        "May - 2190\n",
        "\n",
        "Create a list to store these monthly expenses and using that find out,\n",
        "\n",
        "1. In Feb, how many dollars you spent extra compare to January?\n",
        "2. Find out your total expense in first quarter (first three months) of the year.\n",
        "3. Find out if you spent exactly 2000 dollars in any month\n",
        "4. June month just finished and your expense is 1980 dollar. Add this item to our monthly expense list\n",
        "5. You returned an item that you bought in a month of April and\n",
        "got a refund of 200$. Make a correction to your monthly expense list\n",
        "based on this"
      ],
      "metadata": {
        "id": "vTohbxWRZcjr"
      }
    },
    {
      "cell_type": "code",
      "source": [
        "expense=[2200,2350,2600,2130,2190]\n",
        "print(\"extra expense in feb compared to jan\",expense[1]-expense[0])\n",
        "print(\"total expense in first quarter\",expense[0]+expense[1]+expense[2])\n"
      ],
      "metadata": {
        "colab": {
          "base_uri": "https://localhost:8080/"
        },
        "id": "sQuQIZoLZewi",
        "outputId": "17be59ac-0f43-47a5-cfb9-7bd2624eaf59"
      },
      "execution_count": null,
      "outputs": [
        {
          "output_type": "stream",
          "name": "stdout",
          "text": [
            "extra expense in feb compared to jan 150\n",
            "total expense in first quarter 7150\n"
          ]
        }
      ]
    },
    {
      "cell_type": "code",
      "source": [
        "print(\"did i spend exactly 2000 in any month: \", 2000 in expense)"
      ],
      "metadata": {
        "colab": {
          "base_uri": "https://localhost:8080/"
        },
        "id": "B9VMIHfbnb4Z",
        "outputId": "9b1d2ec3-61ef-4e5e-b597-82bd213e3ad1"
      },
      "execution_count": null,
      "outputs": [
        {
          "output_type": "stream",
          "name": "stdout",
          "text": [
            "did i spend exactly 2000 in any month:  False\n"
          ]
        }
      ]
    },
    {
      "cell_type": "code",
      "source": [
        "expense.append(1980)\n",
        "print(expense)"
      ],
      "metadata": {
        "colab": {
          "base_uri": "https://localhost:8080/"
        },
        "id": "d-koanRbnsNY",
        "outputId": "2ffed011-5c79-4453-dafe-34a3260ad454"
      },
      "execution_count": null,
      "outputs": [
        {
          "output_type": "stream",
          "name": "stdout",
          "text": [
            "[2200, 2350, 2600, 2130, 2190, 1980]\n"
          ]
        }
      ]
    },
    {
      "cell_type": "code",
      "source": [
        "expense[3]=expense[3]-200\n",
        "print(expense)"
      ],
      "metadata": {
        "colab": {
          "base_uri": "https://localhost:8080/"
        },
        "id": "ZJEvedvDn9vI",
        "outputId": "740de431-20bb-4c51-e70f-412f7e9b9757"
      },
      "execution_count": null,
      "outputs": [
        {
          "output_type": "stream",
          "name": "stdout",
          "text": [
            "[2200, 2350, 2600, 2130, 2190, 1980]\n"
          ]
        }
      ]
    },
    {
      "cell_type": "markdown",
      "source": [
        "You have a list of your favourite marvel super heros.\n",
        "\n",
        "heros=['spider man','thor','hulk','iron man','captain america']\n",
        "\n",
        "Using this find out,\n",
        "\n",
        "1. Length of the list\n",
        "2. Add 'black panther' at the end of this list\n",
        "3. You realize that you need to add 'black panther' after 'hulk',\n",
        "   so remove it from the list first and then add it after 'hulk'\n",
        "4. Now you don't like thor and hulk because they get angry easily :)\n",
        "   So you want to remove thor and hulk from list and replace them with doctor strange (because he is cool).\n",
        "   Do that with one line of code.\n",
        "5. Sort the heros list in alphabetical order (Hint. Use dir() functions to list down all functions available in list)"
      ],
      "metadata": {
        "id": "C_k0aVNGoWPA"
      }
    },
    {
      "cell_type": "code",
      "source": [
        "heros=['spider man','thor','hulk','iron man','captain america']\n",
        "print(len(heros))\n",
        "heros.append('black panther')\n",
        "print(heros)\n",
        "heros.remove('black panther')\n",
        "print(heros)\n"
      ],
      "metadata": {
        "colab": {
          "base_uri": "https://localhost:8080/"
        },
        "id": "VDWTAXGxocL4",
        "outputId": "139f95a9-e505-460e-be8c-d485b97a3a30"
      },
      "execution_count": null,
      "outputs": [
        {
          "output_type": "stream",
          "name": "stdout",
          "text": [
            "5\n",
            "['spider man', 'thor', 'hulk', 'iron man', 'captain america', 'black panther']\n",
            "['spider man', 'thor', 'hulk', 'iron man', 'captain america']\n"
          ]
        }
      ]
    },
    {
      "cell_type": "code",
      "source": [
        "heros.insert(3,'black panther')\n",
        "print(heros)"
      ],
      "metadata": {
        "colab": {
          "base_uri": "https://localhost:8080/"
        },
        "id": "4cI_b5Lqo1p4",
        "outputId": "18acc9ed-061f-47be-9a29-2442c78d56ab"
      },
      "execution_count": null,
      "outputs": [
        {
          "output_type": "stream",
          "name": "stdout",
          "text": [
            "['spider man', 'thor', 'hulk', 'black panther', 'iron man', 'captain america']\n"
          ]
        }
      ]
    },
    {
      "cell_type": "code",
      "source": [
        "heros[1:3]=['doctor strange']\n",
        "print(heros)"
      ],
      "metadata": {
        "colab": {
          "base_uri": "https://localhost:8080/"
        },
        "id": "5IQgXKi8o5O4",
        "outputId": "9fe69d59-3b22-4767-bbc0-f75780673af0"
      },
      "execution_count": null,
      "outputs": [
        {
          "output_type": "stream",
          "name": "stdout",
          "text": [
            "['spider man', 'doctor strange', 'black panther', 'iron man', 'captain america']\n"
          ]
        }
      ]
    },
    {
      "cell_type": "code",
      "source": [
        "heros.sort()\n",
        "print(heros)"
      ],
      "metadata": {
        "colab": {
          "base_uri": "https://localhost:8080/"
        },
        "id": "Ymwk4mUepU9Y",
        "outputId": "43a33591-be4d-442e-b5cb-de3dfefccabf"
      },
      "execution_count": null,
      "outputs": [
        {
          "output_type": "stream",
          "name": "stdout",
          "text": [
            "['black panther', 'captain america', 'doctor strange', 'iron man', 'spider man']\n"
          ]
        }
      ]
    },
    {
      "cell_type": "markdown",
      "source": [
        "Create a list of all odd numbers between 1 and a max number. Max number is something you need to take from a user using input() function"
      ],
      "metadata": {
        "id": "bIXNTXqgpgqn"
      }
    },
    {
      "cell_type": "code",
      "source": [
        "max=int(input(\"enter max number\"))\n",
        "odd=[]\n",
        "for i in range(1,max+1):\n",
        "  if i%2!=0:\n",
        "    odd.append(i)\n",
        "print(odd)"
      ],
      "metadata": {
        "colab": {
          "base_uri": "https://localhost:8080/"
        },
        "id": "FGi4tNhdp2h_",
        "outputId": "4b5301d0-b5cd-4ea1-dfb3-b1b9eb83ea39"
      },
      "execution_count": null,
      "outputs": [
        {
          "output_type": "stream",
          "name": "stdout",
          "text": [
            "enter max number6\n",
            "[1, 3, 5]\n"
          ]
        }
      ]
    }
  ]
}